{
 "cells": [
  {
   "cell_type": "markdown",
   "id": "790a5923-a922-4218-9fbc-376a735d4da7",
   "metadata": {},
   "source": [
    "# Task 1: Implement a linear regression model to predict the prices of houses based on their square footage and the number of bedrooms and bathrooms"
   ]
  },
  {
   "cell_type": "markdown",
   "id": "186f466b-90ce-46d7-8516-aa80ab74723c",
   "metadata": {},
   "source": [
    "## Importing the Libraries"
   ]
  },
  {
   "cell_type": "code",
   "execution_count": 1,
   "id": "df9e1dcb-4bc0-4c35-92f9-38e6c5b2b98e",
   "metadata": {},
   "outputs": [],
   "source": [
    "# Importing neccessary libraries for the ML Project \n",
    "import pandas as pd   # For data loading and manipulation (e.g., CSV files, DataFrames)\n",
    "import numpy as np    # For numerical operations, arrays, and mathematical functions\n",
    "\n",
    "from sklearn.linear_model import LinearRegression # Linear Regression model for prediction\n",
    "from sklearn.metrics import mean_squared_error, r2_score   # Evaluation metrics for model performance\n",
    "from sklearn.model_selection import train_test_split    # For splitting dataset into training and testing sets\n",
    "\n",
    "import matplotlib.pyplot as plt   # For visualizing results"
   ]
  },
  {
   "cell_type": "markdown",
   "id": "dc874ad6-d260-480e-b8a1-b38c388e35e6",
   "metadata": {},
   "source": [
    "## Loading the DataSets and Viewing(Inspecting) the data"
   ]
  },
  {
   "cell_type": "code",
   "execution_count": 2,
   "id": "b399c08b-87ce-4eef-82bd-646fbc3a3f8f",
   "metadata": {},
   "outputs": [],
   "source": [
    "# Loading the training and test datasets from CSV files\n",
    "# 'train.csv' contains both the input features and the target variable\n",
    "# 'test.csv' contains only the input features (used for prediction after model training)\n",
    "\n",
    "train = pd.read_csv(r\"train.csv\")  # Load training data\n",
    "test = pd.read_csv(r\"test.csv\")    # Load test data"
   ]
  },
  {
   "cell_type": "code",
   "execution_count": 3,
   "id": "c7e10673-3d3a-4811-ac29-aebb7c27ae8d",
   "metadata": {},
   "outputs": [
    {
     "data": {
      "text/plain": [
       "(1460, 81)"
      ]
     },
     "execution_count": 3,
     "metadata": {},
     "output_type": "execute_result"
    }
   ],
   "source": [
    "train.shape       #Inspecting the Shape of the DataSet"
   ]
  },
  {
   "cell_type": "code",
   "execution_count": 4,
   "id": "2e892d25-87af-4f06-b65f-2c03e394f499",
   "metadata": {},
   "outputs": [
    {
     "name": "stdout",
     "output_type": "stream",
     "text": [
      "<class 'pandas.core.frame.DataFrame'>\n",
      "RangeIndex: 1460 entries, 0 to 1459\n",
      "Data columns (total 81 columns):\n",
      " #   Column         Non-Null Count  Dtype  \n",
      "---  ------         --------------  -----  \n",
      " 0   Id             1460 non-null   int64  \n",
      " 1   MSSubClass     1460 non-null   int64  \n",
      " 2   MSZoning       1460 non-null   object \n",
      " 3   LotFrontage    1201 non-null   float64\n",
      " 4   LotArea        1460 non-null   int64  \n",
      " 5   Street         1460 non-null   object \n",
      " 6   Alley          91 non-null     object \n",
      " 7   LotShape       1460 non-null   object \n",
      " 8   LandContour    1460 non-null   object \n",
      " 9   Utilities      1460 non-null   object \n",
      " 10  LotConfig      1460 non-null   object \n",
      " 11  LandSlope      1460 non-null   object \n",
      " 12  Neighborhood   1460 non-null   object \n",
      " 13  Condition1     1460 non-null   object \n",
      " 14  Condition2     1460 non-null   object \n",
      " 15  BldgType       1460 non-null   object \n",
      " 16  HouseStyle     1460 non-null   object \n",
      " 17  OverallQual    1460 non-null   int64  \n",
      " 18  OverallCond    1460 non-null   int64  \n",
      " 19  YearBuilt      1460 non-null   int64  \n",
      " 20  YearRemodAdd   1460 non-null   int64  \n",
      " 21  RoofStyle      1460 non-null   object \n",
      " 22  RoofMatl       1460 non-null   object \n",
      " 23  Exterior1st    1460 non-null   object \n",
      " 24  Exterior2nd    1460 non-null   object \n",
      " 25  MasVnrType     588 non-null    object \n",
      " 26  MasVnrArea     1452 non-null   float64\n",
      " 27  ExterQual      1460 non-null   object \n",
      " 28  ExterCond      1460 non-null   object \n",
      " 29  Foundation     1460 non-null   object \n",
      " 30  BsmtQual       1423 non-null   object \n",
      " 31  BsmtCond       1423 non-null   object \n",
      " 32  BsmtExposure   1422 non-null   object \n",
      " 33  BsmtFinType1   1423 non-null   object \n",
      " 34  BsmtFinSF1     1460 non-null   int64  \n",
      " 35  BsmtFinType2   1422 non-null   object \n",
      " 36  BsmtFinSF2     1460 non-null   int64  \n",
      " 37  BsmtUnfSF      1460 non-null   int64  \n",
      " 38  TotalBsmtSF    1460 non-null   int64  \n",
      " 39  Heating        1460 non-null   object \n",
      " 40  HeatingQC      1460 non-null   object \n",
      " 41  CentralAir     1460 non-null   object \n",
      " 42  Electrical     1459 non-null   object \n",
      " 43  1stFlrSF       1460 non-null   int64  \n",
      " 44  2ndFlrSF       1460 non-null   int64  \n",
      " 45  LowQualFinSF   1460 non-null   int64  \n",
      " 46  GrLivArea      1460 non-null   int64  \n",
      " 47  BsmtFullBath   1460 non-null   int64  \n",
      " 48  BsmtHalfBath   1460 non-null   int64  \n",
      " 49  FullBath       1460 non-null   int64  \n",
      " 50  HalfBath       1460 non-null   int64  \n",
      " 51  BedroomAbvGr   1460 non-null   int64  \n",
      " 52  KitchenAbvGr   1460 non-null   int64  \n",
      " 53  KitchenQual    1460 non-null   object \n",
      " 54  TotRmsAbvGrd   1460 non-null   int64  \n",
      " 55  Functional     1460 non-null   object \n",
      " 56  Fireplaces     1460 non-null   int64  \n",
      " 57  FireplaceQu    770 non-null    object \n",
      " 58  GarageType     1379 non-null   object \n",
      " 59  GarageYrBlt    1379 non-null   float64\n",
      " 60  GarageFinish   1379 non-null   object \n",
      " 61  GarageCars     1460 non-null   int64  \n",
      " 62  GarageArea     1460 non-null   int64  \n",
      " 63  GarageQual     1379 non-null   object \n",
      " 64  GarageCond     1379 non-null   object \n",
      " 65  PavedDrive     1460 non-null   object \n",
      " 66  WoodDeckSF     1460 non-null   int64  \n",
      " 67  OpenPorchSF    1460 non-null   int64  \n",
      " 68  EnclosedPorch  1460 non-null   int64  \n",
      " 69  3SsnPorch      1460 non-null   int64  \n",
      " 70  ScreenPorch    1460 non-null   int64  \n",
      " 71  PoolArea       1460 non-null   int64  \n",
      " 72  PoolQC         7 non-null      object \n",
      " 73  Fence          281 non-null    object \n",
      " 74  MiscFeature    54 non-null     object \n",
      " 75  MiscVal        1460 non-null   int64  \n",
      " 76  MoSold         1460 non-null   int64  \n",
      " 77  YrSold         1460 non-null   int64  \n",
      " 78  SaleType       1460 non-null   object \n",
      " 79  SaleCondition  1460 non-null   object \n",
      " 80  SalePrice      1460 non-null   int64  \n",
      "dtypes: float64(3), int64(35), object(43)\n",
      "memory usage: 924.0+ KB\n"
     ]
    }
   ],
   "source": [
    "train.info()    #Inspecting the column names, data types and non-null counts"
   ]
  },
  {
   "cell_type": "code",
   "execution_count": 5,
   "id": "037cf460-7d9e-44dd-99a5-9b9bb583bc51",
   "metadata": {},
   "outputs": [
    {
     "data": {
      "text/plain": [
       "['Id',\n",
       " 'MSSubClass',\n",
       " 'MSZoning',\n",
       " 'LotFrontage',\n",
       " 'LotArea',\n",
       " 'Street',\n",
       " 'Alley',\n",
       " 'LotShape',\n",
       " 'LandContour',\n",
       " 'Utilities',\n",
       " 'LotConfig',\n",
       " 'LandSlope',\n",
       " 'Neighborhood',\n",
       " 'Condition1',\n",
       " 'Condition2',\n",
       " 'BldgType',\n",
       " 'HouseStyle',\n",
       " 'OverallQual',\n",
       " 'OverallCond',\n",
       " 'YearBuilt',\n",
       " 'YearRemodAdd',\n",
       " 'RoofStyle',\n",
       " 'RoofMatl',\n",
       " 'Exterior1st',\n",
       " 'Exterior2nd',\n",
       " 'MasVnrType',\n",
       " 'MasVnrArea',\n",
       " 'ExterQual',\n",
       " 'ExterCond',\n",
       " 'Foundation',\n",
       " 'BsmtQual',\n",
       " 'BsmtCond',\n",
       " 'BsmtExposure',\n",
       " 'BsmtFinType1',\n",
       " 'BsmtFinSF1',\n",
       " 'BsmtFinType2',\n",
       " 'BsmtFinSF2',\n",
       " 'BsmtUnfSF',\n",
       " 'TotalBsmtSF',\n",
       " 'Heating',\n",
       " 'HeatingQC',\n",
       " 'CentralAir',\n",
       " 'Electrical',\n",
       " '1stFlrSF',\n",
       " '2ndFlrSF',\n",
       " 'LowQualFinSF',\n",
       " 'GrLivArea',\n",
       " 'BsmtFullBath',\n",
       " 'BsmtHalfBath',\n",
       " 'FullBath',\n",
       " 'HalfBath',\n",
       " 'BedroomAbvGr',\n",
       " 'KitchenAbvGr',\n",
       " 'KitchenQual',\n",
       " 'TotRmsAbvGrd',\n",
       " 'Functional',\n",
       " 'Fireplaces',\n",
       " 'FireplaceQu',\n",
       " 'GarageType',\n",
       " 'GarageYrBlt',\n",
       " 'GarageFinish',\n",
       " 'GarageCars',\n",
       " 'GarageArea',\n",
       " 'GarageQual',\n",
       " 'GarageCond',\n",
       " 'PavedDrive',\n",
       " 'WoodDeckSF',\n",
       " 'OpenPorchSF',\n",
       " 'EnclosedPorch',\n",
       " '3SsnPorch',\n",
       " 'ScreenPorch',\n",
       " 'PoolArea',\n",
       " 'PoolQC',\n",
       " 'Fence',\n",
       " 'MiscFeature',\n",
       " 'MiscVal',\n",
       " 'MoSold',\n",
       " 'YrSold',\n",
       " 'SaleType',\n",
       " 'SaleCondition',\n",
       " 'SalePrice']"
      ]
     },
     "execution_count": 5,
     "metadata": {},
     "output_type": "execute_result"
    }
   ],
   "source": [
    "train.columns.tolist()    #Viewing all the column names "
   ]
  },
  {
   "cell_type": "code",
   "execution_count": 6,
   "id": "701ed17e-691a-4e08-b284-a58ec037d087",
   "metadata": {},
   "outputs": [
    {
     "data": {
      "text/html": [
       "<div>\n",
       "<style scoped>\n",
       "    .dataframe tbody tr th:only-of-type {\n",
       "        vertical-align: middle;\n",
       "    }\n",
       "\n",
       "    .dataframe tbody tr th {\n",
       "        vertical-align: top;\n",
       "    }\n",
       "\n",
       "    .dataframe thead th {\n",
       "        text-align: right;\n",
       "    }\n",
       "</style>\n",
       "<table border=\"1\" class=\"dataframe\">\n",
       "  <thead>\n",
       "    <tr style=\"text-align: right;\">\n",
       "      <th></th>\n",
       "      <th>Id</th>\n",
       "      <th>1stFlrSF</th>\n",
       "      <th>2ndFlrSF</th>\n",
       "      <th>GrLivArea</th>\n",
       "      <th>BedroomAbvGr</th>\n",
       "      <th>FullBath</th>\n",
       "      <th>SalePrice</th>\n",
       "    </tr>\n",
       "  </thead>\n",
       "  <tbody>\n",
       "    <tr>\n",
       "      <th>0</th>\n",
       "      <td>1</td>\n",
       "      <td>856</td>\n",
       "      <td>854</td>\n",
       "      <td>1710</td>\n",
       "      <td>3</td>\n",
       "      <td>2</td>\n",
       "      <td>208500</td>\n",
       "    </tr>\n",
       "    <tr>\n",
       "      <th>1</th>\n",
       "      <td>2</td>\n",
       "      <td>1262</td>\n",
       "      <td>0</td>\n",
       "      <td>1262</td>\n",
       "      <td>3</td>\n",
       "      <td>2</td>\n",
       "      <td>181500</td>\n",
       "    </tr>\n",
       "    <tr>\n",
       "      <th>2</th>\n",
       "      <td>3</td>\n",
       "      <td>920</td>\n",
       "      <td>866</td>\n",
       "      <td>1786</td>\n",
       "      <td>3</td>\n",
       "      <td>2</td>\n",
       "      <td>223500</td>\n",
       "    </tr>\n",
       "    <tr>\n",
       "      <th>3</th>\n",
       "      <td>4</td>\n",
       "      <td>961</td>\n",
       "      <td>756</td>\n",
       "      <td>1717</td>\n",
       "      <td>3</td>\n",
       "      <td>1</td>\n",
       "      <td>140000</td>\n",
       "    </tr>\n",
       "    <tr>\n",
       "      <th>4</th>\n",
       "      <td>5</td>\n",
       "      <td>1145</td>\n",
       "      <td>1053</td>\n",
       "      <td>2198</td>\n",
       "      <td>4</td>\n",
       "      <td>2</td>\n",
       "      <td>250000</td>\n",
       "    </tr>\n",
       "    <tr>\n",
       "      <th>5</th>\n",
       "      <td>6</td>\n",
       "      <td>796</td>\n",
       "      <td>566</td>\n",
       "      <td>1362</td>\n",
       "      <td>1</td>\n",
       "      <td>1</td>\n",
       "      <td>143000</td>\n",
       "    </tr>\n",
       "    <tr>\n",
       "      <th>6</th>\n",
       "      <td>7</td>\n",
       "      <td>1694</td>\n",
       "      <td>0</td>\n",
       "      <td>1694</td>\n",
       "      <td>3</td>\n",
       "      <td>2</td>\n",
       "      <td>307000</td>\n",
       "    </tr>\n",
       "    <tr>\n",
       "      <th>7</th>\n",
       "      <td>8</td>\n",
       "      <td>1107</td>\n",
       "      <td>983</td>\n",
       "      <td>2090</td>\n",
       "      <td>3</td>\n",
       "      <td>2</td>\n",
       "      <td>200000</td>\n",
       "    </tr>\n",
       "    <tr>\n",
       "      <th>8</th>\n",
       "      <td>9</td>\n",
       "      <td>1022</td>\n",
       "      <td>752</td>\n",
       "      <td>1774</td>\n",
       "      <td>2</td>\n",
       "      <td>2</td>\n",
       "      <td>129900</td>\n",
       "    </tr>\n",
       "    <tr>\n",
       "      <th>9</th>\n",
       "      <td>10</td>\n",
       "      <td>1077</td>\n",
       "      <td>0</td>\n",
       "      <td>1077</td>\n",
       "      <td>2</td>\n",
       "      <td>1</td>\n",
       "      <td>118000</td>\n",
       "    </tr>\n",
       "  </tbody>\n",
       "</table>\n",
       "</div>"
      ],
      "text/plain": [
       "   Id  1stFlrSF  2ndFlrSF  GrLivArea  BedroomAbvGr  FullBath  SalePrice\n",
       "0   1       856       854       1710             3         2     208500\n",
       "1   2      1262         0       1262             3         2     181500\n",
       "2   3       920       866       1786             3         2     223500\n",
       "3   4       961       756       1717             3         1     140000\n",
       "4   5      1145      1053       2198             4         2     250000\n",
       "5   6       796       566       1362             1         1     143000\n",
       "6   7      1694         0       1694             3         2     307000\n",
       "7   8      1107       983       2090             3         2     200000\n",
       "8   9      1022       752       1774             2         2     129900\n",
       "9  10      1077         0       1077             2         1     118000"
      ]
     },
     "execution_count": 6,
     "metadata": {},
     "output_type": "execute_result"
    }
   ],
   "source": [
    "# Displaying the first 10 rows of selected columns for initial inspection\n",
    "# Helps in understanding the relationship between floor area, bedrooms, bathrooms, and sale price\n",
    "\n",
    "train[['Id','1stFlrSF','2ndFlrSF','GrLivArea','BedroomAbvGr','FullBath','SalePrice']].head(10)"
   ]
  },
  {
   "cell_type": "markdown",
   "id": "9f19fa77-3250-47a7-b38e-a31bfd4687c2",
   "metadata": {},
   "source": [
    "## Feature Selection and Data Cleaning"
   ]
  },
  {
   "cell_type": "code",
   "execution_count": 7,
   "id": "185729bf-1d15-42a9-b508-50501c34101f",
   "metadata": {},
   "outputs": [],
   "source": [
    "#Removing the duplicate rows from the training data\n",
    "train.drop_duplicates(inplace = True)  "
   ]
  },
  {
   "cell_type": "code",
   "execution_count": 8,
   "id": "9ad518cb-4b5b-4794-8e0c-89e4ff2dd867",
   "metadata": {},
   "outputs": [],
   "source": [
    "#Selecting the features that I will be using to predict the target that is, Sale Price\n",
    "\n",
    "features = ['GrLivArea', 'BedroomAbvGr', 'FullBath']  #Variables which have to take for the Sale Price Prediction\n",
    "target = 'SalePrice'   #Variable we have to predict"
   ]
  },
  {
   "cell_type": "code",
   "execution_count": 9,
   "id": "ab84bdf9-686f-4deb-aa09-172bf95b47eb",
   "metadata": {},
   "outputs": [],
   "source": [
    "# Creating cleaned versions of train and test datasets for modeling\n",
    "# Not a necessary step for our data because there are no missing values in our\n",
    "# data, but filling missing values with the median is a good practice in general \n",
    "# as it helps handle incomplete data robustly without losing samples or biasing the dataset.\n",
    "\n",
    "train_clean = train[features + [target]].dropna()\n",
    "test_clean = test[features].fillna(test[features].median())"
   ]
  },
  {
   "cell_type": "code",
   "execution_count": 10,
   "id": "b090b00a-6047-411f-bb09-cda323d0b406",
   "metadata": {},
   "outputs": [],
   "source": [
    "# Removing outliers in 'GrLivArea' feature by keeping only houses with living area <= 4000 sqft\n",
    "# Outliers can skew the model’s learning and negatively impact prediction accuracy\n",
    "# The outliers for this data is 4000 but for different data it can change accordingly \n",
    "\n",
    "train_clean = train_clean[train_clean['GrLivArea'] <= 4000]"
   ]
  },
  {
   "cell_type": "code",
   "execution_count": 11,
   "id": "a5bb750b-c8d1-4d60-9c61-a86d37c255ae",
   "metadata": {},
   "outputs": [
    {
     "data": {
      "text/plain": [
       "Text(0, 0.5, 'Sale Price')"
      ]
     },
     "execution_count": 11,
     "metadata": {},
     "output_type": "execute_result"
    },
    {
     "data": {
      "image/png": "[encoded data removed]",
      "text/plain": [
       "<Figure size 400x400 with 1 Axes>"
      ]
     },
     "metadata": {},
     "output_type": "display_data"
    }
   ],
   "source": [
    "# Visualizing the relationship between living area ('GrLivArea') and sale price\n",
    "# Scatter plot helps to see how house size affects price and identify any patterns or outliers\n",
    "\n",
    "plt.figure(figsize=(4, 4))\n",
    "plt.scatter(train_clean['GrLivArea'], train_clean[target])\n",
    "plt.xlabel('Square Footage')\n",
    "plt.ylabel('Sale Price')"
   ]
  },
  {
   "cell_type": "code",
   "execution_count": 12,
   "id": "b318ccde-ec24-4ef6-9712-8ebb74354b74",
   "metadata": {},
   "outputs": [
    {
     "data": {
      "text/plain": [
       "Text(0.5, 0, 'Bedrooms')"
      ]
     },
     "execution_count": 12,
     "metadata": {},
     "output_type": "execute_result"
    },
    {
     "data": {
      "image/png": "[encoded data removed]",
      "text/plain": [
       "<Figure size 640x480 with 1 Axes>"
      ]
     },
     "metadata": {},
     "output_type": "display_data"
    }
   ],
   "source": [
    "# Plotting a bar chart to visualize the relationship between number of bedrooms ('BedroomAbvGr') and sale price\n",
    "# This helps to observe how the sale price varies with different bedroom counts\n",
    "\n",
    "plt.bar(train_clean['BedroomAbvGr'], train_clean[target])\n",
    "plt.xlabel('Bedrooms')"
   ]
  },
  {
   "cell_type": "code",
   "execution_count": 13,
   "id": "10f2e8d2-1d32-4333-89eb-8dd3888af07d",
   "metadata": {},
   "outputs": [
    {
     "data": {
      "image/png": "[encoded data removed]",
      "text/plain": [
       "<Figure size 640x480 with 1 Axes>"
      ]
     },
     "metadata": {},
     "output_type": "display_data"
    }
   ],
   "source": [
    "# Visualizing how the number of full bathroomsrelates to sale price using a bar chart\n",
    "# Helps to observe trends or patterns in price with varying bathroom counts\n",
    "\n",
    "plt.bar(train_clean['FullBath'], train_clean[target])\n",
    "plt.xlabel('Bathrooms')\n",
    "plt.tight_layout()\n",
    "plt.show()"
   ]
  },
  {
   "cell_type": "markdown",
   "id": "20eb9a48-5bf9-4071-9e8b-be763f7f8098",
   "metadata": {},
   "source": [
    "## Train-Test Split"
   ]
  },
  {
   "cell_type": "code",
   "execution_count": 14,
   "id": "dece3b3a-8d7a-4422-bf2d-55106cf4166d",
   "metadata": {},
   "outputs": [],
   "source": [
    "# Preparing feature matrix X and target vector y for modeling\n",
    "X = train_clean[features]\n",
    "y = train_clean[target]\n",
    "\n",
    "# Splitting the dataset into training and validation sets\n",
    "# 80% of data for training the model, 20% for evaluating its performance\n",
    "# random_state ensures reproducibility of the split\n",
    "X_train, X_val, y_train, y_val = train_test_split(\n",
    "    X, y, test_size=0.2, random_state=42\n",
    ")"
   ]
  },
  {
   "cell_type": "markdown",
   "id": "78f1f7a9-8635-4f4f-b32d-5f669e18fc83",
   "metadata": {},
   "source": [
    "## Model Training (Simple Linear Regression)"
   ]
  },
  {
   "cell_type": "code",
   "execution_count": 15,
   "id": "ec107e18-3517-495a-bcb5-703451666e02",
   "metadata": {},
   "outputs": [
    {
     "data": {
      "text/html": [
       "<style>#sk-container-id-1 {color: black;}#sk-container-id-1 pre{padding: 0;}#sk-container-id-1 div.sk-toggleable {background-color: white;}#sk-container-id-1 label.sk-toggleable__label {cursor: pointer;display: block;width: 100%;margin-bottom: 0;padding: 0.3em;box-sizing: border-box;text-align: center;}#sk-container-id-1 label.sk-toggleable__label-arrow:before {content: \"▸\";float: left;margin-right: 0.25em;color: #696969;}#sk-container-id-1 label.sk-toggleable__label-arrow:hover:before {color: black;}#sk-container-id-1 div.sk-estimator:hover label.sk-toggleable__label-arrow:before {color: black;}#sk-container-id-1 div.sk-toggleable__content {max-height: 0;max-width: 0;overflow: hidden;text-align: left;background-color: #f0f8ff;}#sk-container-id-1 div.sk-toggleable__content pre {margin: 0.2em;color: black;border-radius: 0.25em;background-color: #f0f8ff;}#sk-container-id-1 input.sk-toggleable__control:checked~div.sk-toggleable__content {max-height: 200px;max-width: 100%;overflow: auto;}#sk-container-id-1 input.sk-toggleable__control:checked~label.sk-toggleable__label-arrow:before {content: \"▾\";}#sk-container-id-1 div.sk-estimator input.sk-toggleable__control:checked~label.sk-toggleable__label {background-color: #d4ebff;}#sk-container-id-1 div.sk-label input.sk-toggleable__control:checked~label.sk-toggleable__label {background-color: #d4ebff;}#sk-container-id-1 input.sk-hidden--visually {border: 0;clip: rect(1px 1px 1px 1px);clip: rect(1px, 1px, 1px, 1px);height: 1px;margin: -1px;overflow: hidden;padding: 0;position: absolute;width: 1px;}#sk-container-id-1 div.sk-estimator {font-family: monospace;background-color: #f0f8ff;border: 1px dotted black;border-radius: 0.25em;box-sizing: border-box;margin-bottom: 0.5em;}#sk-container-id-1 div.sk-estimator:hover {background-color: #d4ebff;}#sk-container-id-1 div.sk-parallel-item::after {content: \"\";width: 100%;border-bottom: 1px solid gray;flex-grow: 1;}#sk-container-id-1 div.sk-label:hover label.sk-toggleable__label {background-color: #d4ebff;}#sk-container-id-1 div.sk-serial::before {content: \"\";position: absolute;border-left: 1px solid gray;box-sizing: border-box;top: 0;bottom: 0;left: 50%;z-index: 0;}#sk-container-id-1 div.sk-serial {display: flex;flex-direction: column;align-items: center;background-color: white;padding-right: 0.2em;padding-left: 0.2em;position: relative;}#sk-container-id-1 div.sk-item {position: relative;z-index: 1;}#sk-container-id-1 div.sk-parallel {display: flex;align-items: stretch;justify-content: center;background-color: white;position: relative;}#sk-container-id-1 div.sk-item::before, #sk-container-id-1 div.sk-parallel-item::before {content: \"\";position: absolute;border-left: 1px solid gray;box-sizing: border-box;top: 0;bottom: 0;left: 50%;z-index: -1;}#sk-container-id-1 div.sk-parallel-item {display: flex;flex-direction: column;z-index: 1;position: relative;background-color: white;}#sk-container-id-1 div.sk-parallel-item:first-child::after {align-self: flex-end;width: 50%;}#sk-container-id-1 div.sk-parallel-item:last-child::after {align-self: flex-start;width: 50%;}#sk-container-id-1 div.sk-parallel-item:only-child::after {width: 0;}#sk-container-id-1 div.sk-dashed-wrapped {border: 1px dashed gray;margin: 0 0.4em 0.5em 0.4em;box-sizing: border-box;padding-bottom: 0.4em;background-color: white;}#sk-container-id-1 div.sk-label label {font-family: monospace;font-weight: bold;display: inline-block;line-height: 1.2em;}#sk-container-id-1 div.sk-label-container {text-align: center;}#sk-container-id-1 div.sk-container {/* jupyter's `normalize.less` sets `[hidden] { display: none; }` but bootstrap.min.css set `[hidden] { display: none !important; }` so we also need the `!important` here to be able to override the default hidden behavior on the sphinx rendered scikit-learn.org. See: https://github.com/scikit-learn/scikit-learn/issues/21755 */display: inline-block !important;position: relative;}#sk-container-id-1 div.sk-text-repr-fallback {display: none;}</style><div id=\"sk-container-id-1\" class=\"sk-top-container\"><div class=\"sk-text-repr-fallback\"><pre>LinearRegression()</pre><b>In a Jupyter environment, please rerun this cell to show the HTML representation or trust the notebook. <br />On GitHub, the HTML representation is unable to render, please try loading this page with nbviewer.org.</b></div><div class=\"sk-container\" hidden><div class=\"sk-item\"><div class=\"sk-estimator sk-toggleable\"><input class=\"sk-toggleable__control sk-hidden--visually\" id=\"sk-estimator-id-1\" type=\"checkbox\" checked><label for=\"sk-estimator-id-1\" class=\"sk-toggleable__label sk-toggleable__label-arrow\">LinearRegression</label><div class=\"sk-toggleable__content\"><pre>LinearRegression()</pre></div></div></div></div></div>"
      ],
      "text/plain": [
       "LinearRegression()"
      ]
     },
     "execution_count": 15,
     "metadata": {},
     "output_type": "execute_result"
    }
   ],
   "source": [
    "#Intializing the Linear Regression Model\n",
    "model = LinearRegression()\n",
    "\n",
    "#Training the model using the training data\n",
    "model.fit(X_train, y_train)"
   ]
  },
  {
   "cell_type": "code",
   "execution_count": 16,
   "id": "f28f365f-5583-47c8-9e79-d921c470a2c2",
   "metadata": {},
   "outputs": [
    {
     "name": "stdout",
     "output_type": "stream",
     "text": [
      "\n",
      "Model Coefficients:\n",
      "GrLivArea: 126.97\n",
      "BedroomAbvGr: -30484.34\n",
      "FullBath: 21606.04\n",
      "Intercept: 42874.17\n"
     ]
    }
   ],
   "source": [
    "# Printing the learned coefficients for each feature and the intercept of the linear regression model\n",
    "# Coefficients represent the weight or influence of each feature on the predicted sale price\n",
    "# The intercept is the predicted sale price when all features are zero\n",
    "\n",
    "print(\"\\nModel Coefficients:\")\n",
    "for feature, coef in zip(features, model.coef_):\n",
    "    print(f\"{feature}: {coef:.2f}\")\n",
    "print(f\"Intercept: {model.intercept_:.2f}\")"
   ]
  },
  {
   "cell_type": "markdown",
   "id": "9c9fbef1-0926-4d79-8899-23cd18a9a03e",
   "metadata": {},
   "source": [
    "## Model Evaluation"
   ]
  },
  {
   "cell_type": "code",
   "execution_count": 17,
   "id": "8c9fbdd1-729f-4c4c-b956-0e5d58d98b2c",
   "metadata": {},
   "outputs": [
    {
     "name": "stdout",
     "output_type": "stream",
     "text": [
      "\n",
      "Validation RMSE: $47,457.07\n",
      "R² Score: 0.5709\n"
     ]
    }
   ],
   "source": [
    "# Predicting sale prices for the validation set using the trained model\n",
    "y_pred = model.predict(X_val)\n",
    "\n",
    "# Calculating evaluation metrics to measure model performance on unseen data:\n",
    "# RMSE (Root Mean Squared Error) shows the average prediction error magnitude in the original units (dollars)\n",
    "# R² Score (coefficient of determination) indicates the proportion of variance in sale price explained by the model\n",
    "rmse = np.sqrt(mean_squared_error(y_val, y_pred))\n",
    "r2 = r2_score(y_val, y_pred)\n",
    "print(f\"\\nValidation RMSE: ${rmse:,.2f}\")\n",
    "print(f\"R² Score: {r2:.4f}\")"
   ]
  },
  {
   "cell_type": "code",
   "execution_count": 18,
   "id": "c2cd182c-a1d8-4b96-9e5f-2f9aa2a2e112",
   "metadata": {},
   "outputs": [
    {
     "name": "stdout",
     "output_type": "stream",
     "text": [
      "RMSE is 26.23% of the average house price\n"
     ]
    }
   ],
   "source": [
    "mean_price = train['SalePrice'].mean()\n",
    "\n",
    "percent_error = (rmse / mean_price) * 100  # This should be a scalar\n",
    "print(f\"RMSE is {percent_error:.2f}% of the average house price\")"
   ]
  },
  {
   "cell_type": "code",
   "execution_count": 19,
   "id": "570e7074-99bb-496f-b515-2fe7e2536187",
   "metadata": {},
   "outputs": [
    {
     "data": {
      "image/png": "[encoded data removed]",
      "text/plain": [
       "<Figure size 640x480 with 1 Axes>"
      ]
     },
     "metadata": {},
     "output_type": "display_data"
    }
   ],
   "source": [
    "# Plotting Actual vs Predicted sale prices to visually assess model performance\n",
    "# Each point represents a prediction — the closer it lies to the red dashed line (perfect prediction), the better the model\n",
    "# This plot helps to identify if the model consistently under- or over-predicts in certain ranges\n",
    "\n",
    "plt.scatter(y_val, y_pred, alpha=0.5)\n",
    "plt.plot([y_val.min(), y_val.max()], [y_val.min(), y_val.max()], 'r--')\n",
    "plt.xlabel(\"Actual Price\")\n",
    "plt.ylabel(\"Predicted Price\")\n",
    "plt.title(\"Linear Regression: Actual vs Predicted Prices\")\n",
    "plt.show()"
   ]
  },
  {
   "cell_type": "markdown",
   "id": "3fa7904c-aadd-4911-9d14-bcf328c54319",
   "metadata": {},
   "source": [
    "## Making Prediction on Test Data"
   ]
  },
  {
   "cell_type": "code",
   "execution_count": 20,
   "id": "5a96cd57-6465-4006-af9c-65d383061df1",
   "metadata": {},
   "outputs": [],
   "source": [
    "# Predicting sale prices on the test dataset using the trained model\n",
    "test_pred = model.predict(test_clean[features])\n",
    "\n",
    "# Ensure no negative predictions\n",
    "test_pred = np.maximum(test_pred, 0)\n",
    "\n",
    "# Save submission by creating a DataFrame for submission with 'Id' and predicted 'SalePrice'\n",
    "submission = pd.DataFrame({\n",
    "    'Id': test['Id'],\n",
    "    'SalePrice': test_pred\n",
    "})"
   ]
  },
  {
   "cell_type": "code",
   "execution_count": 21,
   "id": "5ce68a4c-d7dc-46f0-873c-27c9b2e2619e",
   "metadata": {},
   "outputs": [],
   "source": [
    "# Saving the final predictions to a CSV file named 'output.csv'\n",
    "# The file contains 'Id' and predicted 'SalePrice' columns, ready for submission or further analysis\n",
    "\n",
    "submission.to_csv(r\"output.csv\", index=False)"
   ]
  },
  {
   "cell_type": "code",
   "execution_count": 22,
   "id": "b65dc30a-5194-40de-8db3-fc878a7aa44d",
   "metadata": {},
   "outputs": [
    {
     "data": {
      "text/html": [
       "<div>\n",
       "<style scoped>\n",
       "    .dataframe tbody tr th:only-of-type {\n",
       "        vertical-align: middle;\n",
       "    }\n",
       "\n",
       "    .dataframe tbody tr th {\n",
       "        vertical-align: top;\n",
       "    }\n",
       "\n",
       "    .dataframe thead th {\n",
       "        text-align: right;\n",
       "    }\n",
       "</style>\n",
       "<table border=\"1\" class=\"dataframe\">\n",
       "  <thead>\n",
       "    <tr style=\"text-align: right;\">\n",
       "      <th></th>\n",
       "      <th>Id</th>\n",
       "      <th>SalePrice</th>\n",
       "    </tr>\n",
       "  </thead>\n",
       "  <tbody>\n",
       "    <tr>\n",
       "      <th>0</th>\n",
       "      <td>1461</td>\n",
       "      <td>117279.272731</td>\n",
       "    </tr>\n",
       "    <tr>\n",
       "      <th>1</th>\n",
       "      <td>1462</td>\n",
       "      <td>141774.208315</td>\n",
       "    </tr>\n",
       "    <tr>\n",
       "      <th>2</th>\n",
       "      <td>1463</td>\n",
       "      <td>201472.132222</td>\n",
       "    </tr>\n",
       "    <tr>\n",
       "      <th>3</th>\n",
       "      <td>1464</td>\n",
       "      <td>198297.808905</td>\n",
       "    </tr>\n",
       "    <tr>\n",
       "      <th>4</th>\n",
       "      <td>1465</td>\n",
       "      <td>187642.922985</td>\n",
       "    </tr>\n",
       "    <tr>\n",
       "      <th>5</th>\n",
       "      <td>1466</td>\n",
       "      <td>204773.428472</td>\n",
       "    </tr>\n",
       "    <tr>\n",
       "      <th>6</th>\n",
       "      <td>1467</td>\n",
       "      <td>145350.095971</td>\n",
       "    </tr>\n",
       "    <tr>\n",
       "      <th>7</th>\n",
       "      <td>1468</td>\n",
       "      <td>180648.571260</td>\n",
       "    </tr>\n",
       "    <tr>\n",
       "      <th>8</th>\n",
       "      <td>1469</td>\n",
       "      <td>173782.227780</td>\n",
       "    </tr>\n",
       "    <tr>\n",
       "      <th>9</th>\n",
       "      <td>1470</td>\n",
       "      <td>115501.651673</td>\n",
       "    </tr>\n",
       "  </tbody>\n",
       "</table>\n",
       "</div>"
      ],
      "text/plain": [
       "     Id      SalePrice\n",
       "0  1461  117279.272731\n",
       "1  1462  141774.208315\n",
       "2  1463  201472.132222\n",
       "3  1464  198297.808905\n",
       "4  1465  187642.922985\n",
       "5  1466  204773.428472\n",
       "6  1467  145350.095971\n",
       "7  1468  180648.571260\n",
       "8  1469  173782.227780\n",
       "9  1470  115501.651673"
      ]
     },
     "execution_count": 22,
     "metadata": {},
     "output_type": "execute_result"
    }
   ],
   "source": [
    "# Displaying the first 10 rows of the submission DataFrame to verify output format and predicted values\n",
    "submission.head(10)"
   ]
  },
  {
   "cell_type": "markdown",
   "id": "c3dd76a6-11e6-4c31-a1f1-79267b8d62cb",
   "metadata": {},
   "source": [
    "## Conclusion"
   ]
  },
  {
   "cell_type": "markdown",
   "id": "a91a0ef5-fef9-4016-9d5c-a0198bde2999",
   "metadata": {},
   "source": [
    "#### In this project, I have implemented a Linear Regression model to predict house sale price using the selected features such as GrLivArea, BedroomAbvGr, and FullBath.\n",
    "#### The model achieved a validation RMSE of approximately $47,000 which corresponds to around 26.23% of the average house price. The relatively high error indicates that:\n",
    "#### 1.) The model is limited by the small number of features used\n",
    "#### 2.) Linear Regression is not sufficient to capture the complex, non-linear relationship in real estate data\n",
    "#### Future Improvements can include:\n",
    "#### 1.) Add more informative or impactful features, such as OverallQual, GarageArea, YearBuilt, etc.\n",
    "#### 2.) Use more advanced models like Random Forest or Gradient Boosting to better capture nonlinear patterns.\n",
    "#### 3.) Hyperparamater tuning and cross validation may provide to enhance robustness and generalization."
   ]
  },
  {
   "cell_type": "code",
   "execution_count": null,
   "id": "2a799e19-61d9-4c0d-a640-a7eb91875f83",
   "metadata": {},
   "outputs": [],
   "source": []
  }
 ],
 "metadata": {
  "kernelspec": {
   "display_name": "Python 3 (ipykernel)",
   "language": "python",
   "name": "python3"
  },
  "language_info": {
   "codemirror_mode": {
    "name": "ipython",
    "version": 3
   },
   "file_extension": ".py",
   "mimetype": "text/x-python",
   "name": "python",
   "nbconvert_exporter": "python",
   "pygments_lexer": "ipython3",
   "version": "3.12.0"
  }
 },
 "nbformat": 4,
 "nbformat_minor": 5
}
